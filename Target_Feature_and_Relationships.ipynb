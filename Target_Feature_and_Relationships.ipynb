{
  "nbformat": 4,
  "nbformat_minor": 0,
  "metadata": {
    "colab": {
      "name": "Target_Feature_and_Relationships.ipynb",
      "provenance": []
    },
    "kernelspec": {
      "name": "python3",
      "display_name": "Python 3"
    },
    "language_info": {
      "name": "python"
    }
  },
  "cells": [
    {
      "cell_type": "code",
      "execution_count": 21,
      "metadata": {
        "colab": {
          "base_uri": "https://localhost:8080/",
          "height": 310
        },
        "id": "nXie50Td0tN-",
        "outputId": "0f74874d-bc71-4ef7-d6f5-f2bcbdf645a6"
      },
      "outputs": [
        {
          "output_type": "execute_result",
          "data": {
            "text/html": [
              "<div>\n",
              "<style scoped>\n",
              "    .dataframe tbody tr th:only-of-type {\n",
              "        vertical-align: middle;\n",
              "    }\n",
              "\n",
              "    .dataframe tbody tr th {\n",
              "        vertical-align: top;\n",
              "    }\n",
              "\n",
              "    .dataframe thead th {\n",
              "        text-align: right;\n",
              "    }\n",
              "</style>\n",
              "<table border=\"1\" class=\"dataframe\">\n",
              "  <thead>\n",
              "    <tr style=\"text-align: right;\">\n",
              "      <th></th>\n",
              "      <th>Formatted Date</th>\n",
              "      <th>Summary</th>\n",
              "      <th>Precip Type</th>\n",
              "      <th>Temperature (C)</th>\n",
              "      <th>Apparent Temperature (C)</th>\n",
              "      <th>Humidity</th>\n",
              "      <th>Wind Speed (km/h)</th>\n",
              "      <th>Wind Bearing (degrees)</th>\n",
              "      <th>Visibility (km)</th>\n",
              "      <th>Loud Cover</th>\n",
              "      <th>Pressure (millibars)</th>\n",
              "      <th>Daily Summary</th>\n",
              "    </tr>\n",
              "  </thead>\n",
              "  <tbody>\n",
              "    <tr>\n",
              "      <th>0</th>\n",
              "      <td>2006-04-01 00:00:00.000 +0200</td>\n",
              "      <td>Partly Cloudy</td>\n",
              "      <td>rain</td>\n",
              "      <td>9.472</td>\n",
              "      <td>7.389</td>\n",
              "      <td>0.890</td>\n",
              "      <td>14.120</td>\n",
              "      <td>251.000</td>\n",
              "      <td>15.826</td>\n",
              "      <td>0.000</td>\n",
              "      <td>1015.130</td>\n",
              "      <td>Partly cloudy throughout the day.</td>\n",
              "    </tr>\n",
              "    <tr>\n",
              "      <th>1</th>\n",
              "      <td>2006-04-01 01:00:00.000 +0200</td>\n",
              "      <td>Partly Cloudy</td>\n",
              "      <td>rain</td>\n",
              "      <td>9.356</td>\n",
              "      <td>7.228</td>\n",
              "      <td>0.860</td>\n",
              "      <td>14.265</td>\n",
              "      <td>259.000</td>\n",
              "      <td>15.826</td>\n",
              "      <td>0.000</td>\n",
              "      <td>1015.630</td>\n",
              "      <td>Partly cloudy throughout the day.</td>\n",
              "    </tr>\n",
              "    <tr>\n",
              "      <th>2</th>\n",
              "      <td>2006-04-01 02:00:00.000 +0200</td>\n",
              "      <td>Mostly Cloudy</td>\n",
              "      <td>rain</td>\n",
              "      <td>9.378</td>\n",
              "      <td>9.378</td>\n",
              "      <td>0.890</td>\n",
              "      <td>3.928</td>\n",
              "      <td>204.000</td>\n",
              "      <td>14.957</td>\n",
              "      <td>0.000</td>\n",
              "      <td>1015.940</td>\n",
              "      <td>Partly cloudy throughout the day.</td>\n",
              "    </tr>\n",
              "    <tr>\n",
              "      <th>3</th>\n",
              "      <td>2006-04-01 03:00:00.000 +0200</td>\n",
              "      <td>Partly Cloudy</td>\n",
              "      <td>rain</td>\n",
              "      <td>8.289</td>\n",
              "      <td>5.944</td>\n",
              "      <td>0.830</td>\n",
              "      <td>14.104</td>\n",
              "      <td>269.000</td>\n",
              "      <td>15.826</td>\n",
              "      <td>0.000</td>\n",
              "      <td>1016.410</td>\n",
              "      <td>Partly cloudy throughout the day.</td>\n",
              "    </tr>\n",
              "    <tr>\n",
              "      <th>4</th>\n",
              "      <td>2006-04-01 04:00:00.000 +0200</td>\n",
              "      <td>Mostly Cloudy</td>\n",
              "      <td>rain</td>\n",
              "      <td>8.756</td>\n",
              "      <td>6.978</td>\n",
              "      <td>0.830</td>\n",
              "      <td>11.045</td>\n",
              "      <td>259.000</td>\n",
              "      <td>15.826</td>\n",
              "      <td>0.000</td>\n",
              "      <td>1016.510</td>\n",
              "      <td>Partly cloudy throughout the day.</td>\n",
              "    </tr>\n",
              "  </tbody>\n",
              "</table>\n",
              "</div>"
            ],
            "text/plain": [
              "                  Formatted Date  ...                      Daily Summary\n",
              "0  2006-04-01 00:00:00.000 +0200  ...  Partly cloudy throughout the day.\n",
              "1  2006-04-01 01:00:00.000 +0200  ...  Partly cloudy throughout the day.\n",
              "2  2006-04-01 02:00:00.000 +0200  ...  Partly cloudy throughout the day.\n",
              "3  2006-04-01 03:00:00.000 +0200  ...  Partly cloudy throughout the day.\n",
              "4  2006-04-01 04:00:00.000 +0200  ...  Partly cloudy throughout the day.\n",
              "\n",
              "[5 rows x 12 columns]"
            ]
          },
          "metadata": {},
          "execution_count": 21
        }
      ],
      "source": [
        "import matplotlib.pyplot as plt\n",
        "import numpy as np\n",
        "import pandas as pd\n",
        "from sklearn import linear_model\n",
        "import statsmodels.formula.api as smf\n",
        "\n",
        "\n",
        "%matplotlib inline\n",
        "pd.options.display.float_format = '{:.3f}'.format\n",
        "\n",
        "import warnings\n",
        "warnings.filterwarnings(action=\"ignore\")\n",
        "\n",
        "                        \n",
        "df = pd.read_csv(\"https://djl-lms-assets.s3.eu-central-1.amazonaws.com/datasets/weatherHistory.csv\")\n",
        "df.head()"
      ]
    },
    {
      "cell_type": "code",
      "source": [
        "df.columns"
      ],
      "metadata": {
        "colab": {
          "base_uri": "https://localhost:8080/"
        },
        "id": "kS1uvS3D1lUH",
        "outputId": "1682d874-d8b3-4ab8-85ca-1bf15fac6399"
      },
      "execution_count": 22,
      "outputs": [
        {
          "output_type": "execute_result",
          "data": {
            "text/plain": [
              "Index(['Formatted Date', 'Summary', 'Precip Type', 'Temperature (C)',\n",
              "       'Apparent Temperature (C)', 'Humidity', 'Wind Speed (km/h)',\n",
              "       'Wind Bearing (degrees)', 'Visibility (km)', 'Loud Cover',\n",
              "       'Pressure (millibars)', 'Daily Summary'],\n",
              "      dtype='object')"
            ]
          },
          "metadata": {},
          "execution_count": 22
        }
      ]
    },
    {
      "cell_type": "code",
      "source": [
        "df.isnull().sum()/len(df)*100"
      ],
      "metadata": {
        "colab": {
          "base_uri": "https://localhost:8080/"
        },
        "id": "uDaYBWZ11lWT",
        "outputId": "45e9c00c-8e88-4c21-cd49-a29d3ecb52a2"
      },
      "execution_count": 23,
      "outputs": [
        {
          "output_type": "execute_result",
          "data": {
            "text/plain": [
              "Formatted Date             0.000\n",
              "Summary                    0.000\n",
              "Precip Type                0.536\n",
              "Temperature (C)            0.000\n",
              "Apparent Temperature (C)   0.000\n",
              "Humidity                   0.000\n",
              "Wind Speed (km/h)          0.000\n",
              "Wind Bearing (degrees)     0.000\n",
              "Visibility (km)            0.000\n",
              "Loud Cover                 0.000\n",
              "Pressure (millibars)       0.000\n",
              "Daily Summary              0.000\n",
              "dtype: float64"
            ]
          },
          "metadata": {},
          "execution_count": 23
        }
      ]
    },
    {
      "cell_type": "code",
      "source": [
        "df[\"Precip Type\"].unique()"
      ],
      "metadata": {
        "colab": {
          "base_uri": "https://localhost:8080/"
        },
        "id": "8ooZCdqx1lX0",
        "outputId": "1284458a-4a67-4e59-f4c9-531c9e95b562"
      },
      "execution_count": 24,
      "outputs": [
        {
          "output_type": "execute_result",
          "data": {
            "text/plain": [
              "array(['rain', 'snow', nan], dtype=object)"
            ]
          },
          "metadata": {},
          "execution_count": 24
        }
      ]
    },
    {
      "cell_type": "code",
      "source": [
        "df[\"Precip Type\"].dropna()"
      ],
      "metadata": {
        "colab": {
          "base_uri": "https://localhost:8080/"
        },
        "id": "AXYDMv2l1lau",
        "outputId": "e4887136-3428-42be-9824-13abbaffec9a"
      },
      "execution_count": 25,
      "outputs": [
        {
          "output_type": "execute_result",
          "data": {
            "text/plain": [
              "0        rain\n",
              "1        rain\n",
              "2        rain\n",
              "3        rain\n",
              "4        rain\n",
              "         ... \n",
              "96448    rain\n",
              "96449    rain\n",
              "96450    rain\n",
              "96451    rain\n",
              "96452    rain\n",
              "Name: Precip Type, Length: 95936, dtype: object"
            ]
          },
          "metadata": {},
          "execution_count": 25
        }
      ]
    },
    {
      "cell_type": "code",
      "source": [
        "df[\"Temperature\"]= (df[\"Temperature (C)\"]-df[\"Apparent Temperature (C)\"])\n",
        "df"
      ],
      "metadata": {
        "colab": {
          "base_uri": "https://localhost:8080/",
          "height": 701
        },
        "id": "TZyG7FZw1lcg",
        "outputId": "b7a5d251-8d8b-4954-d595-824cf530b194"
      },
      "execution_count": 26,
      "outputs": [
        {
          "output_type": "execute_result",
          "data": {
            "text/html": [
              "<div>\n",
              "<style scoped>\n",
              "    .dataframe tbody tr th:only-of-type {\n",
              "        vertical-align: middle;\n",
              "    }\n",
              "\n",
              "    .dataframe tbody tr th {\n",
              "        vertical-align: top;\n",
              "    }\n",
              "\n",
              "    .dataframe thead th {\n",
              "        text-align: right;\n",
              "    }\n",
              "</style>\n",
              "<table border=\"1\" class=\"dataframe\">\n",
              "  <thead>\n",
              "    <tr style=\"text-align: right;\">\n",
              "      <th></th>\n",
              "      <th>Formatted Date</th>\n",
              "      <th>Summary</th>\n",
              "      <th>Precip Type</th>\n",
              "      <th>Temperature (C)</th>\n",
              "      <th>Apparent Temperature (C)</th>\n",
              "      <th>Humidity</th>\n",
              "      <th>Wind Speed (km/h)</th>\n",
              "      <th>Wind Bearing (degrees)</th>\n",
              "      <th>Visibility (km)</th>\n",
              "      <th>Loud Cover</th>\n",
              "      <th>Pressure (millibars)</th>\n",
              "      <th>Daily Summary</th>\n",
              "      <th>Temperature</th>\n",
              "    </tr>\n",
              "  </thead>\n",
              "  <tbody>\n",
              "    <tr>\n",
              "      <th>0</th>\n",
              "      <td>2006-04-01 00:00:00.000 +0200</td>\n",
              "      <td>Partly Cloudy</td>\n",
              "      <td>rain</td>\n",
              "      <td>9.472</td>\n",
              "      <td>7.389</td>\n",
              "      <td>0.890</td>\n",
              "      <td>14.120</td>\n",
              "      <td>251.000</td>\n",
              "      <td>15.826</td>\n",
              "      <td>0.000</td>\n",
              "      <td>1015.130</td>\n",
              "      <td>Partly cloudy throughout the day.</td>\n",
              "      <td>2.083</td>\n",
              "    </tr>\n",
              "    <tr>\n",
              "      <th>1</th>\n",
              "      <td>2006-04-01 01:00:00.000 +0200</td>\n",
              "      <td>Partly Cloudy</td>\n",
              "      <td>rain</td>\n",
              "      <td>9.356</td>\n",
              "      <td>7.228</td>\n",
              "      <td>0.860</td>\n",
              "      <td>14.265</td>\n",
              "      <td>259.000</td>\n",
              "      <td>15.826</td>\n",
              "      <td>0.000</td>\n",
              "      <td>1015.630</td>\n",
              "      <td>Partly cloudy throughout the day.</td>\n",
              "      <td>2.128</td>\n",
              "    </tr>\n",
              "    <tr>\n",
              "      <th>2</th>\n",
              "      <td>2006-04-01 02:00:00.000 +0200</td>\n",
              "      <td>Mostly Cloudy</td>\n",
              "      <td>rain</td>\n",
              "      <td>9.378</td>\n",
              "      <td>9.378</td>\n",
              "      <td>0.890</td>\n",
              "      <td>3.928</td>\n",
              "      <td>204.000</td>\n",
              "      <td>14.957</td>\n",
              "      <td>0.000</td>\n",
              "      <td>1015.940</td>\n",
              "      <td>Partly cloudy throughout the day.</td>\n",
              "      <td>0.000</td>\n",
              "    </tr>\n",
              "    <tr>\n",
              "      <th>3</th>\n",
              "      <td>2006-04-01 03:00:00.000 +0200</td>\n",
              "      <td>Partly Cloudy</td>\n",
              "      <td>rain</td>\n",
              "      <td>8.289</td>\n",
              "      <td>5.944</td>\n",
              "      <td>0.830</td>\n",
              "      <td>14.104</td>\n",
              "      <td>269.000</td>\n",
              "      <td>15.826</td>\n",
              "      <td>0.000</td>\n",
              "      <td>1016.410</td>\n",
              "      <td>Partly cloudy throughout the day.</td>\n",
              "      <td>2.344</td>\n",
              "    </tr>\n",
              "    <tr>\n",
              "      <th>4</th>\n",
              "      <td>2006-04-01 04:00:00.000 +0200</td>\n",
              "      <td>Mostly Cloudy</td>\n",
              "      <td>rain</td>\n",
              "      <td>8.756</td>\n",
              "      <td>6.978</td>\n",
              "      <td>0.830</td>\n",
              "      <td>11.045</td>\n",
              "      <td>259.000</td>\n",
              "      <td>15.826</td>\n",
              "      <td>0.000</td>\n",
              "      <td>1016.510</td>\n",
              "      <td>Partly cloudy throughout the day.</td>\n",
              "      <td>1.778</td>\n",
              "    </tr>\n",
              "    <tr>\n",
              "      <th>...</th>\n",
              "      <td>...</td>\n",
              "      <td>...</td>\n",
              "      <td>...</td>\n",
              "      <td>...</td>\n",
              "      <td>...</td>\n",
              "      <td>...</td>\n",
              "      <td>...</td>\n",
              "      <td>...</td>\n",
              "      <td>...</td>\n",
              "      <td>...</td>\n",
              "      <td>...</td>\n",
              "      <td>...</td>\n",
              "      <td>...</td>\n",
              "    </tr>\n",
              "    <tr>\n",
              "      <th>96448</th>\n",
              "      <td>2016-09-09 19:00:00.000 +0200</td>\n",
              "      <td>Partly Cloudy</td>\n",
              "      <td>rain</td>\n",
              "      <td>26.017</td>\n",
              "      <td>26.017</td>\n",
              "      <td>0.430</td>\n",
              "      <td>10.996</td>\n",
              "      <td>31.000</td>\n",
              "      <td>16.100</td>\n",
              "      <td>0.000</td>\n",
              "      <td>1014.360</td>\n",
              "      <td>Partly cloudy starting in the morning.</td>\n",
              "      <td>0.000</td>\n",
              "    </tr>\n",
              "    <tr>\n",
              "      <th>96449</th>\n",
              "      <td>2016-09-09 20:00:00.000 +0200</td>\n",
              "      <td>Partly Cloudy</td>\n",
              "      <td>rain</td>\n",
              "      <td>24.583</td>\n",
              "      <td>24.583</td>\n",
              "      <td>0.480</td>\n",
              "      <td>10.095</td>\n",
              "      <td>20.000</td>\n",
              "      <td>15.553</td>\n",
              "      <td>0.000</td>\n",
              "      <td>1015.160</td>\n",
              "      <td>Partly cloudy starting in the morning.</td>\n",
              "      <td>0.000</td>\n",
              "    </tr>\n",
              "    <tr>\n",
              "      <th>96450</th>\n",
              "      <td>2016-09-09 21:00:00.000 +0200</td>\n",
              "      <td>Partly Cloudy</td>\n",
              "      <td>rain</td>\n",
              "      <td>22.039</td>\n",
              "      <td>22.039</td>\n",
              "      <td>0.560</td>\n",
              "      <td>8.984</td>\n",
              "      <td>30.000</td>\n",
              "      <td>16.100</td>\n",
              "      <td>0.000</td>\n",
              "      <td>1015.660</td>\n",
              "      <td>Partly cloudy starting in the morning.</td>\n",
              "      <td>0.000</td>\n",
              "    </tr>\n",
              "    <tr>\n",
              "      <th>96451</th>\n",
              "      <td>2016-09-09 22:00:00.000 +0200</td>\n",
              "      <td>Partly Cloudy</td>\n",
              "      <td>rain</td>\n",
              "      <td>21.522</td>\n",
              "      <td>21.522</td>\n",
              "      <td>0.600</td>\n",
              "      <td>10.529</td>\n",
              "      <td>20.000</td>\n",
              "      <td>16.100</td>\n",
              "      <td>0.000</td>\n",
              "      <td>1015.950</td>\n",
              "      <td>Partly cloudy starting in the morning.</td>\n",
              "      <td>0.000</td>\n",
              "    </tr>\n",
              "    <tr>\n",
              "      <th>96452</th>\n",
              "      <td>2016-09-09 23:00:00.000 +0200</td>\n",
              "      <td>Partly Cloudy</td>\n",
              "      <td>rain</td>\n",
              "      <td>20.439</td>\n",
              "      <td>20.439</td>\n",
              "      <td>0.610</td>\n",
              "      <td>5.877</td>\n",
              "      <td>39.000</td>\n",
              "      <td>15.520</td>\n",
              "      <td>0.000</td>\n",
              "      <td>1016.160</td>\n",
              "      <td>Partly cloudy starting in the morning.</td>\n",
              "      <td>0.000</td>\n",
              "    </tr>\n",
              "  </tbody>\n",
              "</table>\n",
              "<p>96453 rows × 13 columns</p>\n",
              "</div>"
            ],
            "text/plain": [
              "                      Formatted Date  ... Temperature\n",
              "0      2006-04-01 00:00:00.000 +0200  ...       2.083\n",
              "1      2006-04-01 01:00:00.000 +0200  ...       2.128\n",
              "2      2006-04-01 02:00:00.000 +0200  ...       0.000\n",
              "3      2006-04-01 03:00:00.000 +0200  ...       2.344\n",
              "4      2006-04-01 04:00:00.000 +0200  ...       1.778\n",
              "...                              ...  ...         ...\n",
              "96448  2016-09-09 19:00:00.000 +0200  ...       0.000\n",
              "96449  2016-09-09 20:00:00.000 +0200  ...       0.000\n",
              "96450  2016-09-09 21:00:00.000 +0200  ...       0.000\n",
              "96451  2016-09-09 22:00:00.000 +0200  ...       0.000\n",
              "96452  2016-09-09 23:00:00.000 +0200  ...       0.000\n",
              "\n",
              "[96453 rows x 13 columns]"
            ]
          },
          "metadata": {},
          "execution_count": 26
        }
      ]
    },
    {
      "cell_type": "code",
      "source": [
        "from sklearn import linear_model\n",
        "\n",
        "Y = df['Temperature']\n",
        "X = df[['Humidity','Wind Speed (km/h)' ]]\n",
        "lrm = linear_model.LinearRegression()\n",
        "lrm.fit(X, Y)"
      ],
      "metadata": {
        "colab": {
          "base_uri": "https://localhost:8080/"
        },
        "id": "va4N8KzT1wKr",
        "outputId": "5e4708bb-ccfc-4767-dcb7-3a07946abf84"
      },
      "execution_count": 27,
      "outputs": [
        {
          "output_type": "execute_result",
          "data": {
            "text/plain": [
              "LinearRegression()"
            ]
          },
          "metadata": {},
          "execution_count": 27
        }
      ]
    },
    {
      "cell_type": "code",
      "source": [
        "print('variable: \\n', lrm.coef_)\n",
        "print('Constant (bias): \\n', lrm.intercept_)"
      ],
      "metadata": {
        "colab": {
          "base_uri": "https://localhost:8080/"
        },
        "id": "nX4FAPr71wM2",
        "outputId": "90259798-5389-4952-f504-381c544f83cf"
      },
      "execution_count": 28,
      "outputs": [
        {
          "output_type": "stream",
          "name": "stdout",
          "text": [
            "variable: \n",
            " [3.02918594 0.11929075]\n",
            "Constant (bias): \n",
            " -2.4381054151877035\n"
          ]
        }
      ]
    },
    {
      "cell_type": "code",
      "source": [
        "import statsmodels.api as sm\n",
        "\n",
        "X = sm.add_constant(X)\n",
        "results = sm.OLS(Y, X).fit()\n",
        "results.summary()"
      ],
      "metadata": {
        "colab": {
          "base_uri": "https://localhost:8080/",
          "height": 465
        },
        "id": "9cW3GOZV1wO6",
        "outputId": "2b0500ef-c0e9-4d38-feaf-1820a37ee8e3"
      },
      "execution_count": 29,
      "outputs": [
        {
          "output_type": "execute_result",
          "data": {
            "text/html": [
              "<table class=\"simpletable\">\n",
              "<caption>OLS Regression Results</caption>\n",
              "<tr>\n",
              "  <th>Dep. Variable:</th>       <td>Temperature</td>   <th>  R-squared:         </th>  <td>   0.288</td>  \n",
              "</tr>\n",
              "<tr>\n",
              "  <th>Model:</th>                   <td>OLS</td>       <th>  Adj. R-squared:    </th>  <td>   0.288</td>  \n",
              "</tr>\n",
              "<tr>\n",
              "  <th>Method:</th>             <td>Least Squares</td>  <th>  F-statistic:       </th>  <td>1.949e+04</td> \n",
              "</tr>\n",
              "<tr>\n",
              "  <th>Date:</th>             <td>Thu, 09 Dec 2021</td> <th>  Prob (F-statistic):</th>   <td>  0.00</td>   \n",
              "</tr>\n",
              "<tr>\n",
              "  <th>Time:</th>                 <td>20:19:09</td>     <th>  Log-Likelihood:    </th> <td>-1.7046e+05</td>\n",
              "</tr>\n",
              "<tr>\n",
              "  <th>No. Observations:</th>      <td> 96453</td>      <th>  AIC:               </th>  <td>3.409e+05</td> \n",
              "</tr>\n",
              "<tr>\n",
              "  <th>Df Residuals:</th>          <td> 96450</td>      <th>  BIC:               </th>  <td>3.409e+05</td> \n",
              "</tr>\n",
              "<tr>\n",
              "  <th>Df Model:</th>              <td>     2</td>      <th>                     </th>      <td> </td>     \n",
              "</tr>\n",
              "<tr>\n",
              "  <th>Covariance Type:</th>      <td>nonrobust</td>    <th>                     </th>      <td> </td>     \n",
              "</tr>\n",
              "</table>\n",
              "<table class=\"simpletable\">\n",
              "<tr>\n",
              "          <td></td>             <th>coef</th>     <th>std err</th>      <th>t</th>      <th>P>|t|</th>  <th>[0.025</th>    <th>0.975]</th>  \n",
              "</tr>\n",
              "<tr>\n",
              "  <th>const</th>             <td>   -2.4381</td> <td>    0.021</td> <td> -115.948</td> <td> 0.000</td> <td>   -2.479</td> <td>   -2.397</td>\n",
              "</tr>\n",
              "<tr>\n",
              "  <th>Humidity</th>          <td>    3.0292</td> <td>    0.024</td> <td>  126.479</td> <td> 0.000</td> <td>    2.982</td> <td>    3.076</td>\n",
              "</tr>\n",
              "<tr>\n",
              "  <th>Wind Speed (km/h)</th> <td>    0.1193</td> <td>    0.001</td> <td>  176.164</td> <td> 0.000</td> <td>    0.118</td> <td>    0.121</td>\n",
              "</tr>\n",
              "</table>\n",
              "<table class=\"simpletable\">\n",
              "<tr>\n",
              "  <th>Omnibus:</th>       <td>3935.747</td> <th>  Durbin-Watson:     </th> <td>   0.264</td>\n",
              "</tr>\n",
              "<tr>\n",
              "  <th>Prob(Omnibus):</th>  <td> 0.000</td>  <th>  Jarque-Bera (JB):  </th> <td>4613.311</td>\n",
              "</tr>\n",
              "<tr>\n",
              "  <th>Skew:</th>           <td> 0.478</td>  <th>  Prob(JB):          </th> <td>    0.00</td>\n",
              "</tr>\n",
              "<tr>\n",
              "  <th>Kurtosis:</th>       <td> 3.484</td>  <th>  Cond. No.          </th> <td>    88.1</td>\n",
              "</tr>\n",
              "</table><br/><br/>Warnings:<br/>[1] Standard Errors assume that the covariance matrix of the errors is correctly specified."
            ],
            "text/plain": [
              "<class 'statsmodels.iolib.summary.Summary'>\n",
              "\"\"\"\n",
              "                            OLS Regression Results                            \n",
              "==============================================================================\n",
              "Dep. Variable:            Temperature   R-squared:                       0.288\n",
              "Model:                            OLS   Adj. R-squared:                  0.288\n",
              "Method:                 Least Squares   F-statistic:                 1.949e+04\n",
              "Date:                Thu, 09 Dec 2021   Prob (F-statistic):               0.00\n",
              "Time:                        20:19:09   Log-Likelihood:            -1.7046e+05\n",
              "No. Observations:               96453   AIC:                         3.409e+05\n",
              "Df Residuals:                   96450   BIC:                         3.409e+05\n",
              "Df Model:                           2                                         \n",
              "Covariance Type:            nonrobust                                         \n",
              "=====================================================================================\n",
              "                        coef    std err          t      P>|t|      [0.025      0.975]\n",
              "-------------------------------------------------------------------------------------\n",
              "const                -2.4381      0.021   -115.948      0.000      -2.479      -2.397\n",
              "Humidity              3.0292      0.024    126.479      0.000       2.982       3.076\n",
              "Wind Speed (km/h)     0.1193      0.001    176.164      0.000       0.118       0.121\n",
              "==============================================================================\n",
              "Omnibus:                     3935.747   Durbin-Watson:                   0.264\n",
              "Prob(Omnibus):                  0.000   Jarque-Bera (JB):             4613.311\n",
              "Skew:                           0.478   Prob(JB):                         0.00\n",
              "Kurtosis:                       3.484   Cond. No.                         88.1\n",
              "==============================================================================\n",
              "\n",
              "Warnings:\n",
              "[1] Standard Errors assume that the covariance matrix of the errors is correctly specified.\n",
              "\"\"\""
            ]
          },
          "metadata": {},
          "execution_count": 29
        }
      ]
    },
    {
      "cell_type": "code",
      "source": [
        "df['h_w'] = df[\"Humidity\"] * df['Wind Speed (km/h)']\n",
        "Y = df['Temperature']\n",
        "X = df[['Humidity','Wind Speed (km/h)','h_w']]\n",
        "\n",
        "X = sm.add_constant(X)\n",
        "\n",
        "results = sm.OLS(Y, X).fit()\n",
        "results.summary()"
      ],
      "metadata": {
        "colab": {
          "base_uri": "https://localhost:8080/",
          "height": 486
        },
        "id": "sosYXl6M16Qv",
        "outputId": "89191c3b-9bed-4ef1-f3eb-c286b452daac"
      },
      "execution_count": 30,
      "outputs": [
        {
          "output_type": "execute_result",
          "data": {
            "text/html": [
              "<table class=\"simpletable\">\n",
              "<caption>OLS Regression Results</caption>\n",
              "<tr>\n",
              "  <th>Dep. Variable:</th>       <td>Temperature</td>   <th>  R-squared:         </th>  <td>   0.341</td>  \n",
              "</tr>\n",
              "<tr>\n",
              "  <th>Model:</th>                   <td>OLS</td>       <th>  Adj. R-squared:    </th>  <td>   0.341</td>  \n",
              "</tr>\n",
              "<tr>\n",
              "  <th>Method:</th>             <td>Least Squares</td>  <th>  F-statistic:       </th>  <td>1.666e+04</td> \n",
              "</tr>\n",
              "<tr>\n",
              "  <th>Date:</th>             <td>Thu, 09 Dec 2021</td> <th>  Prob (F-statistic):</th>   <td>  0.00</td>   \n",
              "</tr>\n",
              "<tr>\n",
              "  <th>Time:</th>                 <td>20:19:09</td>     <th>  Log-Likelihood:    </th> <td>-1.6669e+05</td>\n",
              "</tr>\n",
              "<tr>\n",
              "  <th>No. Observations:</th>      <td> 96453</td>      <th>  AIC:               </th>  <td>3.334e+05</td> \n",
              "</tr>\n",
              "<tr>\n",
              "  <th>Df Residuals:</th>          <td> 96449</td>      <th>  BIC:               </th>  <td>3.334e+05</td> \n",
              "</tr>\n",
              "<tr>\n",
              "  <th>Df Model:</th>              <td>     3</td>      <th>                     </th>      <td> </td>     \n",
              "</tr>\n",
              "<tr>\n",
              "  <th>Covariance Type:</th>      <td>nonrobust</td>    <th>                     </th>      <td> </td>     \n",
              "</tr>\n",
              "</table>\n",
              "<table class=\"simpletable\">\n",
              "<tr>\n",
              "          <td></td>             <th>coef</th>     <th>std err</th>      <th>t</th>      <th>P>|t|</th>  <th>[0.025</th>    <th>0.975]</th>  \n",
              "</tr>\n",
              "<tr>\n",
              "  <th>const</th>             <td>   -0.0839</td> <td>    0.033</td> <td>   -2.511</td> <td> 0.012</td> <td>   -0.149</td> <td>   -0.018</td>\n",
              "</tr>\n",
              "<tr>\n",
              "  <th>Humidity</th>          <td>   -0.1775</td> <td>    0.043</td> <td>   -4.133</td> <td> 0.000</td> <td>   -0.262</td> <td>   -0.093</td>\n",
              "</tr>\n",
              "<tr>\n",
              "  <th>Wind Speed (km/h)</th> <td>   -0.0905</td> <td>    0.002</td> <td>  -36.797</td> <td> 0.000</td> <td>   -0.095</td> <td>   -0.086</td>\n",
              "</tr>\n",
              "<tr>\n",
              "  <th>h_w</th>               <td>    0.2971</td> <td>    0.003</td> <td>   88.470</td> <td> 0.000</td> <td>    0.291</td> <td>    0.304</td>\n",
              "</tr>\n",
              "</table>\n",
              "<table class=\"simpletable\">\n",
              "<tr>\n",
              "  <th>Omnibus:</th>       <td>4849.937</td> <th>  Durbin-Watson:     </th> <td>   0.262</td>\n",
              "</tr>\n",
              "<tr>\n",
              "  <th>Prob(Omnibus):</th>  <td> 0.000</td>  <th>  Jarque-Bera (JB):  </th> <td>9295.404</td>\n",
              "</tr>\n",
              "<tr>\n",
              "  <th>Skew:</th>           <td> 0.378</td>  <th>  Prob(JB):          </th> <td>    0.00</td>\n",
              "</tr>\n",
              "<tr>\n",
              "  <th>Kurtosis:</th>       <td> 4.320</td>  <th>  Cond. No.          </th> <td>    193.</td>\n",
              "</tr>\n",
              "</table><br/><br/>Warnings:<br/>[1] Standard Errors assume that the covariance matrix of the errors is correctly specified."
            ],
            "text/plain": [
              "<class 'statsmodels.iolib.summary.Summary'>\n",
              "\"\"\"\n",
              "                            OLS Regression Results                            \n",
              "==============================================================================\n",
              "Dep. Variable:            Temperature   R-squared:                       0.341\n",
              "Model:                            OLS   Adj. R-squared:                  0.341\n",
              "Method:                 Least Squares   F-statistic:                 1.666e+04\n",
              "Date:                Thu, 09 Dec 2021   Prob (F-statistic):               0.00\n",
              "Time:                        20:19:09   Log-Likelihood:            -1.6669e+05\n",
              "No. Observations:               96453   AIC:                         3.334e+05\n",
              "Df Residuals:                   96449   BIC:                         3.334e+05\n",
              "Df Model:                           3                                         \n",
              "Covariance Type:            nonrobust                                         \n",
              "=====================================================================================\n",
              "                        coef    std err          t      P>|t|      [0.025      0.975]\n",
              "-------------------------------------------------------------------------------------\n",
              "const                -0.0839      0.033     -2.511      0.012      -0.149      -0.018\n",
              "Humidity             -0.1775      0.043     -4.133      0.000      -0.262      -0.093\n",
              "Wind Speed (km/h)    -0.0905      0.002    -36.797      0.000      -0.095      -0.086\n",
              "h_w                   0.2971      0.003     88.470      0.000       0.291       0.304\n",
              "==============================================================================\n",
              "Omnibus:                     4849.937   Durbin-Watson:                   0.262\n",
              "Prob(Omnibus):                  0.000   Jarque-Bera (JB):             9295.404\n",
              "Skew:                           0.378   Prob(JB):                         0.00\n",
              "Kurtosis:                       4.320   Cond. No.                         193.\n",
              "==============================================================================\n",
              "\n",
              "Warnings:\n",
              "[1] Standard Errors assume that the covariance matrix of the errors is correctly specified.\n",
              "\"\"\""
            ]
          },
          "metadata": {},
          "execution_count": 30
        }
      ]
    }
  ]
}